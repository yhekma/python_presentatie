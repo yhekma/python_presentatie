{
 "cells": [
  {
   "cell_type": "markdown",
   "metadata": {
    "slideshow": {
     "slide_type": "slide"
    }
   },
   "source": [
    "<img src=\"images/python_logo.png\">\n",
    "\n",
    "# Achtergrond\n",
    "\n",
    "## Geschiedenis\n",
    "\n",
    "* Implementatie gestart in 1989 door Guido van Rossum als opvolger van *ABC*\n",
    "* Python 0.9.0 released in february 1991 (eerste publieke release)\n",
    "* Python 1.0 released january 1994\n",
    "  * lambda\n",
    "  * map\n",
    "  * filter\n",
    "  * reduce\n",
    "* Python 2.0 released oktober 2000 met vele nieuwe features zoals een garbage collector\n",
    "  * list comprehensions\n",
    "  * generators\n",
    "  * vanaf 2.2 uniformiteit van types en classes (consistente OO implementatie)\n",
    "* Python 3.0 released december 2008\n",
    "  * Niet backwards compatible\n",
    "  * Motto: *There should be one— and preferably only one —obvious way to do it*\n",
    "  * **print** is een functie, geen statement (***print (\"foo\")*** in plaats van ***print \"foo\"***)\n",
    "  * Geen aparte *string* en *unicode* typen maar alles default unicode"
   ]
  },
  {
   "cell_type": "markdown",
   "metadata": {
    "slideshow": {
     "slide_type": "slide"
    }
   },
   "source": [
    "# Wie gebruikt python?\n",
    "\n",
    "## Onder anderen:\n",
    "\n",
    "<img src=\"images/google.jpeg\"> <img src=\"images/nasa.jpeg\"> <img src=\"images/yahoo.jpeg\"> <img src=\"images/cern.jpeg\"><img src=\"images/openstack.jpg\">"
   ]
  },
  {
   "cell_type": "markdown",
   "metadata": {},
   "source": [
    "# Error handling\n",
    "\n",
    "## try..except\n",
    "\n",
    "### It's better to ask for forgiveness than to beg for permission"
   ]
  },
  {
   "cell_type": "code",
   "execution_count": 2,
   "metadata": {
    "collapsed": true
   },
   "outputs": [],
   "source": [
    "mijn_dictionary = {\n",
    "    'waarde0': 1,\n",
    "    'waarde1': 10,\n",
    "    'waarde2': 15,\n",
    "    'waarde3': 5,\n",
    "}"
   ]
  },
  {
   "cell_type": "markdown",
   "metadata": {},
   "source": [
    "Dus doe ***niet***"
   ]
  },
  {
   "cell_type": "code",
   "execution_count": 13,
   "metadata": {
    "collapsed": false
   },
   "outputs": [
    {
     "name": "stdout",
     "output_type": "stream",
     "text": [
      "1\n",
      "10\n",
      "15\n",
      "5\n",
      "waarde4 bestaat niet\n",
      "waarde5 bestaat niet\n",
      "waarde6 bestaat niet\n",
      "waarde7 bestaat niet\n",
      "waarde8 bestaat niet\n",
      "waarde9 bestaat niet\n"
     ]
    }
   ],
   "source": [
    "for i in range(10):\n",
    "    key = 'waarde{}'.format(i)\n",
    "    if key in mijn_dictionary.keys():\n",
    "        print mijn_dictionary[key]\n",
    "    else:\n",
    "        print \"{} bestaat niet\".format(key)"
   ]
  },
  {
   "cell_type": "markdown",
   "metadata": {},
   "source": [
    "en doe ***wel***"
   ]
  },
  {
   "cell_type": "code",
   "execution_count": 14,
   "metadata": {
    "collapsed": false
   },
   "outputs": [
    {
     "name": "stdout",
     "output_type": "stream",
     "text": [
      "1\n",
      "10\n",
      "15\n",
      "5\n",
      "waarde4 bestaat niet\n",
      "waarde5 bestaat niet\n",
      "waarde6 bestaat niet\n",
      "waarde7 bestaat niet\n",
      "waarde8 bestaat niet\n",
      "waarde9 bestaat niet\n"
     ]
    }
   ],
   "source": [
    "for i in range(10):\n",
    "    key = 'waarde{}'.format(i)\n",
    "    try:\n",
    "        print mijn_dictionary[key]\n",
    "    except KeyError:\n",
    "        print \"{} bestaat niet\".format(key)"
   ]
  },
  {
   "cell_type": "markdown",
   "metadata": {},
   "source": [
    "## try..except..finally"
   ]
  },
  {
   "cell_type": "code",
   "execution_count": 11,
   "metadata": {
    "collapsed": false
   },
   "outputs": [
    {
     "name": "stdout",
     "output_type": "stream",
     "text": [
      "Ik ga door 0 delen!\n",
      "Niet gelukt\n",
      "Klaar\n"
     ]
    }
   ],
   "source": [
    "try:\n",
    "    print \"Ik ga door 0 delen!\"\n",
    "    uitkomst = 10 / 0\n",
    "except:\n",
    "    print \"Niet gelukt\"\n",
    "finally:\n",
    "    print \"Klaar\""
   ]
  },
  {
   "cell_type": "code",
   "execution_count": 8,
   "metadata": {
    "collapsed": false
   },
   "outputs": [
    {
     "name": "stdout",
     "output_type": "stream",
     "text": [
      "Ik ga door 1 delen!\n",
      "Klaar\n"
     ]
    }
   ],
   "source": [
    "try:\n",
    "    print \"Ik ga door 1 delen!\"\n",
    "    uitkomst = 10 / 1\n",
    "finally:\n",
    "    print \"Klaar\""
   ]
  },
  {
   "cell_type": "markdown",
   "metadata": {},
   "source": [
    "# Compound statements\n",
    "\n",
    "Dus ***niet***"
   ]
  },
  {
   "cell_type": "code",
   "execution_count": 15,
   "metadata": {
    "collapsed": false
   },
   "outputs": [
    {
     "name": "stdout",
     "output_type": "stream",
     "text": [
      "48a6e19675ef52a879470cce58aac6a8  ./images/python_logo.png\n",
      "d42c6e0efdf929036634176bbeae27b6  ./images/cern.jpeg\n",
      "9c6bc947ba5eddef60e544fe9752590e  ./images/nasa.jpeg\n",
      "1bbdcde81304d2d5575ae72848e31a38  ./images/yahoo.jpeg\n",
      "bfe3688ea526e2700b8b38e1cdf59435  ./presentatie.ipynb\n",
      "c3b3eb40d3f03d22fa27ec26fc5c0a8e  ./test.log\n",
      "5f6f0b075568f2df58e2f1b9c8238630  ./Voorbeelden.ipynb\n",
      "d05a415a94ad558f0489a5ef8bdf29a6  ./test.ini\n",
      "\n"
     ]
    }
   ],
   "source": [
    "f = open('sums.txt', 'r')\n",
    "print f.read()\n",
    "f.close()"
   ]
  },
  {
   "cell_type": "markdown",
   "metadata": {},
   "source": [
    "Maar ***wel***"
   ]
  },
  {
   "cell_type": "code",
   "execution_count": 16,
   "metadata": {
    "collapsed": false
   },
   "outputs": [
    {
     "name": "stdout",
     "output_type": "stream",
     "text": [
      "48a6e19675ef52a879470cce58aac6a8  ./images/python_logo.png\n",
      "d42c6e0efdf929036634176bbeae27b6  ./images/cern.jpeg\n",
      "9c6bc947ba5eddef60e544fe9752590e  ./images/nasa.jpeg\n",
      "1bbdcde81304d2d5575ae72848e31a38  ./images/yahoo.jpeg\n",
      "bfe3688ea526e2700b8b38e1cdf59435  ./presentatie.ipynb\n",
      "c3b3eb40d3f03d22fa27ec26fc5c0a8e  ./test.log\n",
      "5f6f0b075568f2df58e2f1b9c8238630  ./Voorbeelden.ipynb\n",
      "d05a415a94ad558f0489a5ef8bdf29a6  ./test.ini\n",
      "\n"
     ]
    }
   ],
   "source": [
    "with open('sums.txt', 'r') as f:\n",
    "    print f.read()"
   ]
  },
  {
   "cell_type": "markdown",
   "metadata": {
    "slideshow": {
     "slide_type": "slide"
    }
   },
   "source": [
    "# (Een paar) Basistypen"
   ]
  },
  {
   "cell_type": "markdown",
   "metadata": {
    "slideshow": {
     "slide_type": "slide"
    }
   },
   "source": [
    "## Strings (str())\n",
    "\n",
    "* immutable\n",
    "* indexeerbaar\n",
    "* bruikbaar als key in een dict"
   ]
  },
  {
   "cell_type": "code",
   "execution_count": 17,
   "metadata": {
    "collapsed": false,
    "slideshow": {
     "slide_type": "fragment"
    }
   },
   "outputs": [
    {
     "name": "stdout",
     "output_type": "stream",
     "text": [
      "ik ben een string\n"
     ]
    }
   ],
   "source": [
    "een_string = \"ik ben een string\"\n",
    "print een_string"
   ]
  },
  {
   "cell_type": "code",
   "execution_count": 18,
   "metadata": {
    "collapsed": false,
    "slideshow": {
     "slide_type": "fragment"
    }
   },
   "outputs": [
    {
     "name": "stdout",
     "output_type": "stream",
     "text": [
      "ik ben een string en ik ook\n"
     ]
    }
   ],
   "source": [
    "print een_string + \" en ik ook\" # Concatination werkt zoals verwacht"
   ]
  },
  {
   "cell_type": "code",
   "execution_count": 19,
   "metadata": {
    "collapsed": false,
    "slideshow": {
     "slide_type": "fragment"
    }
   },
   "outputs": [
    {
     "name": "stdout",
     "output_type": "stream",
     "text": [
      "ik ben een string en ik ook\n"
     ]
    }
   ],
   "source": [
    "een_nieuwe_string = een_string + \" en ik ook\"\n",
    "print een_nieuwe_string # Assignment ook"
   ]
  },
  {
   "cell_type": "code",
   "execution_count": 20,
   "metadata": {
    "collapsed": false,
    "slideshow": {
     "slide_type": "fragment"
    }
   },
   "outputs": [
    {
     "name": "stdout",
     "output_type": "stream",
     "text": [
      "ik ben een string en ik ook\n"
     ]
    }
   ],
   "source": [
    "een_string += \" en ik ook\"\n",
    "print een_string # De += impliceert een nieuwe assignment, niet een in-place verandering"
   ]
  },
  {
   "cell_type": "code",
   "execution_count": 21,
   "metadata": {
    "collapsed": false,
    "slideshow": {
     "slide_type": "fragment"
    }
   },
   "outputs": [
    {
     "name": "stdout",
     "output_type": "stream",
     "text": [
      "IK BEN EEN STRING EN IK OOK\n",
      "ik ben een string en ik ook\n"
     ]
    }
   ],
   "source": [
    "print een_string.upper()\n",
    "print een_string # De string is niet veranderd"
   ]
  },
  {
   "cell_type": "markdown",
   "metadata": {
    "slideshow": {
     "slide_type": "fragment"
    }
   },
   "source": [
    "Een string kan, net zoals een lijst, geindexeerd worden."
   ]
  },
  {
   "cell_type": "code",
   "execution_count": 22,
   "metadata": {
    "collapsed": false,
    "slideshow": {
     "slide_type": "fragment"
    }
   },
   "outputs": [
    {
     "name": "stdout",
     "output_type": "stream",
     "text": [
      "ik be\n"
     ]
    }
   ],
   "source": [
    "print een_string[0:5] # Vanaf de eerste tot en met het 5e karakter"
   ]
  },
  {
   "cell_type": "code",
   "execution_count": 23,
   "metadata": {
    "collapsed": false,
    "slideshow": {
     "slide_type": "fragment"
    }
   },
   "outputs": [
    {
     "name": "stdout",
     "output_type": "stream",
     "text": [
      "ik ben een string en i\n"
     ]
    }
   ],
   "source": [
    "print een_string[:-5] # Vanaf het begin tot en met vijf karakters voor het einde"
   ]
  },
  {
   "cell_type": "code",
   "execution_count": 24,
   "metadata": {
    "collapsed": false,
    "slideshow": {
     "slide_type": "fragment"
    }
   },
   "outputs": [
    {
     "name": "stdout",
     "output_type": "stream",
     "text": [
      "ik ben een string en ik ook\n"
     ]
    }
   ],
   "source": [
    "print een_string[:] # Als er niets wordt meegegeven is de eerste positie 0 en de laatste het einde van de string"
   ]
  },
  {
   "cell_type": "code",
   "execution_count": 25,
   "metadata": {
    "collapsed": false,
    "slideshow": {
     "slide_type": "fragment"
    }
   },
   "outputs": [
    {
     "name": "stdout",
     "output_type": "stream",
     "text": [
      "i e\n"
     ]
    }
   ],
   "source": [
    "print een_string[:5:2] # Print vanaf het begin tot het vijfde karakter met stappen van 2"
   ]
  },
  {
   "cell_type": "code",
   "execution_count": 26,
   "metadata": {
    "collapsed": false,
    "slideshow": {
     "slide_type": "fragment"
    }
   },
   "outputs": [
    {
     "name": "stdout",
     "output_type": "stream",
     "text": [
      "koo ki ne gnirts nee neb ki\n"
     ]
    }
   ],
   "source": [
    "print een_string[::-1] # Draai de string om"
   ]
  },
  {
   "cell_type": "markdown",
   "metadata": {
    "collapsed": true,
    "slideshow": {
     "slide_type": "slide"
    }
   },
   "source": [
    "## Lijsten (list()) (aka arrays)\n",
    "\n",
    "* mutable\n",
    "* indexeerbaar\n",
    "* volgordelijk"
   ]
  },
  {
   "cell_type": "code",
   "execution_count": 27,
   "metadata": {
    "collapsed": false,
    "slideshow": {
     "slide_type": "fragment"
    }
   },
   "outputs": [
    {
     "name": "stdout",
     "output_type": "stream",
     "text": [
      "['appel', 'ei', 'kaas']\n"
     ]
    }
   ],
   "source": [
    "mijn_lijst = ['appel', 'ei', 'kaas']\n",
    "print mijn_lijst"
   ]
  },
  {
   "cell_type": "markdown",
   "metadata": {
    "slideshow": {
     "slide_type": "fragment"
    }
   },
   "source": [
    "Omdat een lijst mutable is, kan deze door middel van functies gemodificeerd worden."
   ]
  },
  {
   "cell_type": "code",
   "execution_count": 28,
   "metadata": {
    "collapsed": false,
    "slideshow": {
     "slide_type": "fragment"
    }
   },
   "outputs": [
    {
     "name": "stdout",
     "output_type": "stream",
     "text": [
      "['boter', 'appel', 'ei', 'kaas', 'brood']\n"
     ]
    }
   ],
   "source": [
    "mijn_lijst.append('brood') # Voeg een item toe aan het einde\n",
    "mijn_lijst.insert(0, 'boter') # Insert een item op positie 0\n",
    "print mijn_lijst"
   ]
  },
  {
   "cell_type": "code",
   "execution_count": 29,
   "metadata": {
    "collapsed": false,
    "slideshow": {
     "slide_type": "fragment"
    }
   },
   "outputs": [
    {
     "name": "stdout",
     "output_type": "stream",
     "text": [
      "['brood', 'kaas', 'ei', 'appel', 'boter']\n"
     ]
    }
   ],
   "source": [
    "print mijn_lijst[::-1] # Indexen werkt ook hier natuurlijk"
   ]
  },
  {
   "cell_type": "code",
   "execution_count": 30,
   "metadata": {
    "collapsed": false,
    "slideshow": {
     "slide_type": "fragment"
    }
   },
   "outputs": [
    {
     "name": "stdout",
     "output_type": "stream",
     "text": [
      "['boter', 'appel', 'ei', 'kaas', 'brood', 'poep', 'plas']\n"
     ]
    }
   ],
   "source": [
    "mijn_tweede_lijst = ['poep', 'plas']\n",
    "print mijn_lijst + mijn_tweede_lijst # Lijsten kan je bij elkaar optellen waarbij de tweede unpacked wordt"
   ]
  },
  {
   "cell_type": "code",
   "execution_count": 31,
   "metadata": {
    "collapsed": false,
    "slideshow": {
     "slide_type": "fragment"
    }
   },
   "outputs": [
    {
     "name": "stdout",
     "output_type": "stream",
     "text": [
      "['boter', 'appel', 'ei', 'kaas', 'brood', ['poep', 'plas']]\n"
     ]
    }
   ],
   "source": [
    "mijn_lijst.append(mijn_tweede_lijst) # Hier wordt dus niets unpacked\n",
    "print mijn_lijst"
   ]
  },
  {
   "cell_type": "code",
   "execution_count": 32,
   "metadata": {
    "collapsed": false,
    "slideshow": {
     "slide_type": "fragment"
    }
   },
   "outputs": [
    {
     "name": "stdout",
     "output_type": "stream",
     "text": [
      "[['poep', 'plas']]\n"
     ]
    }
   ],
   "source": [
    "print mijn_lijst[-1:] # Het laatste item. Merk op dat uit een index altijd een lijst komt"
   ]
  },
  {
   "cell_type": "markdown",
   "metadata": {
    "slideshow": {
     "slide_type": "slide"
    }
   },
   "source": [
    "## Dictionaries (dict()) (aka hashes)\n",
    "\n",
    "* verzameling key-value-pairs\n",
    "* keys moeten immutable zijn\n",
    "* keys zijn niet volgorderlijk"
   ]
  },
  {
   "cell_type": "code",
   "execution_count": 33,
   "metadata": {
    "collapsed": false,
    "slideshow": {
     "slide_type": "subslide"
    }
   },
   "outputs": [
    {
     "name": "stdout",
     "output_type": "stream",
     "text": [
      "{'voornaam': 'Henk', 'adres': 'vlierboomstraat 10', 'achternaam': 'Jansen'}\n"
     ]
    }
   ],
   "source": [
    "mijn_dict = {\n",
    "    \"voornaam\": \"Henk\",\n",
    "    \"achternaam\": \"Jansen\",\n",
    "    \"adres\": \"vlierboomstraat 10\",\n",
    "}\n",
    "print mijn_dict"
   ]
  },
  {
   "cell_type": "code",
   "execution_count": 34,
   "metadata": {
    "collapsed": false,
    "slideshow": {
     "slide_type": "subslide"
    }
   },
   "outputs": [
    {
     "name": "stdout",
     "output_type": "stream",
     "text": [
      "['voornaam', 'adres', 'achternaam']\n"
     ]
    }
   ],
   "source": [
    "print mijn_dict.keys() # een normale lijst"
   ]
  },
  {
   "cell_type": "markdown",
   "metadata": {
    "slideshow": {
     "slide_type": "subslide"
    }
   },
   "source": [
    "Een manier om de keys in alfabetische volgorde op te vragen:"
   ]
  },
  {
   "cell_type": "code",
   "execution_count": 35,
   "metadata": {
    "collapsed": false,
    "slideshow": {
     "slide_type": "subslide"
    }
   },
   "outputs": [
    {
     "name": "stdout",
     "output_type": "stream",
     "text": [
      "achternaam Jansen\n",
      "adres vlierboomstraat 10\n",
      "voornaam Henk\n"
     ]
    }
   ],
   "source": [
    "for key in sorted(mijn_dict.keys()):\n",
    "    print key, mijn_dict[key]"
   ]
  },
  {
   "cell_type": "code",
   "execution_count": 36,
   "metadata": {
    "collapsed": false,
    "slideshow": {
     "slide_type": "fragment"
    }
   },
   "outputs": [
    {
     "name": "stdout",
     "output_type": "stream",
     "text": [
      "[('voornaam', 'Henk'), ('adres', 'vlierboomstraat 10'), ('achternaam', 'Jansen')]\n"
     ]
    }
   ],
   "source": [
    "print mijn_dict.items()"
   ]
  },
  {
   "cell_type": "code",
   "execution_count": 37,
   "metadata": {
    "collapsed": false,
    "slideshow": {
     "slide_type": "fragment"
    }
   },
   "outputs": [
    {
     "name": "stdout",
     "output_type": "stream",
     "text": [
      "Henk\n"
     ]
    }
   ],
   "source": [
    "print mijn_dict[\"voornaam\"]"
   ]
  },
  {
   "cell_type": "code",
   "execution_count": 38,
   "metadata": {
    "collapsed": false,
    "slideshow": {
     "slide_type": "fragment"
    }
   },
   "outputs": [
    {
     "name": "stdout",
     "output_type": "stream",
     "text": [
      "kneH\n"
     ]
    }
   ],
   "source": [
    "print mijn_dict[\"voornaam\"][::-1]"
   ]
  },
  {
   "cell_type": "markdown",
   "metadata": {},
   "source": [
    "# Functies, arguments en keyword arguments"
   ]
  },
  {
   "cell_type": "code",
   "execution_count": 39,
   "metadata": {
    "collapsed": false
   },
   "outputs": [
    {
     "name": "stdout",
     "output_type": "stream",
     "text": [
      "---\n",
      "val1: Hallo\n",
      "val2: bla\n",
      "---\n",
      "---\n",
      "val1: Hallo\n",
      "val2: Haaaai!\n",
      "---\n",
      "---\n",
      "val1: Hallo\n",
      "val2: Haaai!\n",
      "---\n"
     ]
    }
   ],
   "source": [
    "def mijnfunc(val1, val2='bla'):\n",
    "    return '---\\nval1: {}\\nval2: {}\\n---'.format(val1, val2)\n",
    "\n",
    "print mijnfunc('Hallo')\n",
    "print mijnfunc('Hallo', 'Haaaai!')\n",
    "print mijnfunc(val2='Haaai!', val1='Hallo')"
   ]
  },
  {
   "cell_type": "markdown",
   "metadata": {},
   "source": [
    "**Let op!!!!oneone!**\n",
    "Defaults worden enkel aangemaakt tijdens de definitie, **niet** de aanroep:"
   ]
  },
  {
   "cell_type": "code",
   "execution_count": 40,
   "metadata": {
    "collapsed": false
   },
   "outputs": [
    {
     "name": "stdout",
     "output_type": "stream",
     "text": [
      "['bla']\n",
      "['bla', 100]\n",
      "[1, 2, 3, 'hoi daar']\n",
      "['bla', 100, 'bla2']\n"
     ]
    }
   ],
   "source": [
    "def mijnfunc(val, lijst=[]):\n",
    "    lijst.append(val)\n",
    "    return lijst\n",
    "\n",
    "print mijnfunc('bla')\n",
    "print mijnfunc(100)\n",
    "print mijnfunc('hoi daar', [1, 2, 3])\n",
    "print mijnfunc('bla2')"
   ]
  },
  {
   "cell_type": "markdown",
   "metadata": {},
   "source": [
    "Wellicht duidelijker:"
   ]
  },
  {
   "cell_type": "code",
   "execution_count": 67,
   "metadata": {
    "collapsed": false
   },
   "outputs": [
    {
     "name": "stdout",
     "output_type": "stream",
     "text": [
      "1444139119.33\n",
      "1444139119.33\n"
     ]
    }
   ],
   "source": [
    "import time\n",
    "\n",
    "def foo(epoch=time.time()):\n",
    "    print epoch\n",
    "\n",
    "foo()\n",
    "\n",
    "time.sleep(2)\n",
    "\n",
    "foo()"
   ]
  },
  {
   "cell_type": "markdown",
   "metadata": {},
   "source": [
    "Als je wilt dat er default een lege lijst (of andere mutable zoals een dictionary bijvoorbeeld) gebruikt wordt:"
   ]
  },
  {
   "cell_type": "code",
   "execution_count": 42,
   "metadata": {
    "collapsed": false
   },
   "outputs": [
    {
     "name": "stdout",
     "output_type": "stream",
     "text": [
      "['bla']\n",
      "[100]\n",
      "[1, 2, 3, 'hoi daar']\n",
      "['bla2']\n"
     ]
    }
   ],
   "source": [
    "def mijnfunc(val, lijst=None):\n",
    "    if not lijst:\n",
    "        lijst = []\n",
    "    \n",
    "    lijst.append(val)\n",
    "    return lijst\n",
    "\n",
    "print mijnfunc('bla')\n",
    "print mijnfunc(100)\n",
    "print mijnfunc('hoi daar', [1, 2, 3])\n",
    "print mijnfunc('bla2')"
   ]
  },
  {
   "cell_type": "markdown",
   "metadata": {},
   "source": [
    "## \\*args en \\*\\*kwargs"
   ]
  },
  {
   "cell_type": "code",
   "execution_count": 71,
   "metadata": {
    "collapsed": false
   },
   "outputs": [
    {
     "name": "stdout",
     "output_type": "stream",
     "text": [
      "------\n",
      "Ik ben met de volgende argumenten aangeroepen: ('arg1', 'arg2', 'arg3')\n",
      "Ik ben met de volgende keyword argumenten aangeroepen: {}\n",
      "------\n",
      "------\n",
      "Ik ben met de volgende argumenten aangeroepen: ('arg1', 'arg2')\n",
      "Ik ben met de volgende keyword argumenten aangeroepen: {'key2': 'bla2', 'key1': 'bla1'}\n",
      "------\n",
      "------\n",
      "Ik ben met de volgende argumenten aangeroepen: ()\n",
      "Ik ben met de volgende keyword argumenten aangeroepen: {'key2': 'bla2', 'key1': 'bla1'}\n",
      "------\n"
     ]
    }
   ],
   "source": [
    "def mijnfunc(*args, **kwargs):\n",
    "    print \"------\"\n",
    "    print \"Ik ben met de volgende argumenten aangeroepen: {}\".format(args)\n",
    "    print \"Ik ben met de volgende keyword argumenten aangeroepen: {}\".format(kwargs)\n",
    "    print \"------\"\n",
    "    \n",
    "mijnfunc('arg1', 'arg2', 'arg3')\n",
    "mijnfunc('arg1', 'arg2', key1='bla1', key2='bla2')\n",
    "mijnfunc(key1='bla1', key2='bla2')"
   ]
  },
  {
   "cell_type": "markdown",
   "metadata": {
    "slideshow": {
     "slide_type": "slide"
    }
   },
   "source": [
    "# Handige Dingen(tm)"
   ]
  },
  {
   "cell_type": "markdown",
   "metadata": {},
   "source": [
    "## String formatting"
   ]
  },
  {
   "cell_type": "code",
   "execution_count": 43,
   "metadata": {
    "collapsed": false
   },
   "outputs": [
    {
     "name": "stdout",
     "output_type": "stream",
     "text": [
      "De oude manier: Yoram\n",
      "De nieuwe manier: Yoram\n"
     ]
    }
   ],
   "source": [
    "mijn_string = 'Yoram'\n",
    "\n",
    "# Oude stijl\n",
    "print \"De oude manier: %s\" % (mijn_string)\n",
    "\n",
    "# Nieuwe stijl\n",
    "print \"De nieuwe manier: {}\".format(mijn_string)"
   ]
  },
  {
   "cell_type": "code",
   "execution_count": 44,
   "metadata": {
    "collapsed": false
   },
   "outputs": [
    {
     "name": "stdout",
     "output_type": "stream",
     "text": [
      "Oude stijl: Yoram Hekma\n",
      "Nieuwe stijl: Yoram Hekma\n"
     ]
    }
   ],
   "source": [
    "data = {'voornaam': 'Yoram', 'achternaam': 'Hekma'}\n",
    "\n",
    "# Oude stijl\n",
    "print \"Oude stijl: %(voornaam)s %(achternaam)s\" % (data)\n",
    "\n",
    "# Nieuwe stijl\n",
    "print \"Nieuwe stijl: {voornaam} {achternaam}\".format(**data)"
   ]
  },
  {
   "cell_type": "code",
   "execution_count": 45,
   "metadata": {
    "collapsed": false
   },
   "outputs": [
    {
     "name": "stdout",
     "output_type": "stream",
     "text": [
      "Oude stijl:                Yoram\n",
      "Nieuwe stijl:                Yoram\n"
     ]
    }
   ],
   "source": [
    "mijn_string = 'Yoram'\n",
    "\n",
    "# Oude stijl\n",
    "print \"Oude stijl: %20s\" % mijn_string\n",
    "\n",
    "# Nieuwe stijl\n",
    "print \"Nieuwe stijl: {:>20}\".format(mijn_string)"
   ]
  },
  {
   "cell_type": "markdown",
   "metadata": {},
   "source": [
    "## List comprehension"
   ]
  },
  {
   "cell_type": "code",
   "execution_count": 46,
   "metadata": {
    "collapsed": false
   },
   "outputs": [
    {
     "name": "stdout",
     "output_type": "stream",
     "text": [
      "lijst = [0, 1, 2, 3, 4, 5, 6, 7, 8, 9]\n",
      "lijst2 = [0, 2, 4, 6, 8, 10, 12, 14, 16, 18]\n",
      "lijst3 = [0, 2, 4, 6, 8]\n"
     ]
    }
   ],
   "source": [
    "lijst = [i for i in range(10)]\n",
    "lijst2 = [i*2 for i in range(10)]\n",
    "lijst3 = [i for i in range(10) if i % 2 == 0]\n",
    "\n",
    "print \"lijst = {}\".format(lijst)\n",
    "print \"lijst2 = {}\".format(lijst2)\n",
    "print \"lijst3 = {}\".format(lijst3)"
   ]
  },
  {
   "cell_type": "code",
   "execution_count": 47,
   "metadata": {
    "collapsed": false
   },
   "outputs": [
    {
     "name": "stdout",
     "output_type": "stream",
     "text": [
      "['10 is deelbaar door 5', '5 is deelbaar door 5']\n"
     ]
    }
   ],
   "source": [
    "mijn_dict = {\n",
    "    'key1': 2,\n",
    "    'key2': 5,\n",
    "    'key3': 10,\n",
    "    'key4': 33,\n",
    "    'key5': 21,\n",
    "}\n",
    "\n",
    "print [\n",
    "    \"{} is deelbaar door 5\".format(mijn_dict[i]) for i in mijn_dict.keys() if mijn_dict[i] % 5 == 0\n",
    "]"
   ]
  },
  {
   "cell_type": "code",
   "execution_count": 48,
   "metadata": {
    "collapsed": false
   },
   "outputs": [
    {
     "name": "stdout",
     "output_type": "stream",
     "text": [
      "{'key2': 5, 'key5': 21, 'key4': 33}\n"
     ]
    }
   ],
   "source": [
    "mijn_dict = {\n",
    "    'key1': 2,\n",
    "    'key2': 5,\n",
    "    'key3': 10,\n",
    "    'key4': 33,\n",
    "    'key5': 21,\n",
    "}\n",
    "\n",
    "[mijn_dict.pop(i) for i in mijn_dict.keys() if mijn_dict[i] % 2 == 0]\n",
    "print mijn_dict"
   ]
  },
  {
   "cell_type": "markdown",
   "metadata": {},
   "source": [
    "## Lambda"
   ]
  },
  {
   "cell_type": "code",
   "execution_count": 49,
   "metadata": {
    "collapsed": false
   },
   "outputs": [
    {
     "data": {
      "text/plain": [
       "20"
      ]
     },
     "execution_count": 49,
     "metadata": {},
     "output_type": "execute_result"
    }
   ],
   "source": [
    "func = lambda var: var*2\n",
    "func(10)"
   ]
  },
  {
   "cell_type": "code",
   "execution_count": 50,
   "metadata": {
    "collapsed": false
   },
   "outputs": [
    {
     "data": {
      "text/plain": [
       "['22 is even', '500 is even', '21 is oneven', '15 is oneven', '501 is oneven']"
      ]
     },
     "execution_count": 50,
     "metadata": {},
     "output_type": "execute_result"
    }
   ],
   "source": [
    "lijst = [22, 500, 21, 15, 501]\n",
    "f = lambda var: \"{} is even\".format(var) if (var % 2 == 0) else \"{} is oneven\".format(var)\n",
    "\n",
    "[f(i) for i in lijst]"
   ]
  },
  {
   "cell_type": "markdown",
   "metadata": {
    "slideshow": {
     "slide_type": "slide"
    }
   },
   "source": [
    "## Map"
   ]
  },
  {
   "cell_type": "code",
   "execution_count": 51,
   "metadata": {
    "collapsed": false,
    "slideshow": {
     "slide_type": "subslide"
    }
   },
   "outputs": [
    {
     "data": {
      "text/plain": [
       "['De dubbele waarde van 4 is 8',\n",
       " 'De dubbele waarde van 12 is 24',\n",
       " 'De dubbele waarde van 8 is 16',\n",
       " 'De dubbele waarde van 6043 is 12086',\n",
       " 'De dubbele waarde van 100 is 200',\n",
       " 'De dubbele waarde van 22 is 44']"
      ]
     },
     "execution_count": 51,
     "metadata": {},
     "output_type": "execute_result"
    }
   ],
   "source": [
    "def verdubbelaar(var):\n",
    "    return \"De dubbele waarde van {} is {}\".format(var, var*2)\n",
    "\n",
    "lijst = [4, 12, 8, 6043, 100, 22]\n",
    "\n",
    "map(verdubbelaar, lijst)"
   ]
  },
  {
   "cell_type": "code",
   "execution_count": 52,
   "metadata": {
    "collapsed": false
   },
   "outputs": [
    {
     "data": {
      "text/plain": [
       "['De dubbele waarde van 4 is 8',\n",
       " 'De dubbele waarde van 12 is 24',\n",
       " 'De dubbele waarde van 8 is 16',\n",
       " 'De dubbele waarde van 6043 is 12086',\n",
       " 'De dubbele waarde van 100 is 200',\n",
       " 'De dubbele waarde van 22 is 44']"
      ]
     },
     "execution_count": 52,
     "metadata": {},
     "output_type": "execute_result"
    }
   ],
   "source": [
    "map(lambda var: \"De dubbele waarde van {} is {}\".format(var, var*2), lijst)"
   ]
  },
  {
   "cell_type": "markdown",
   "metadata": {},
   "source": [
    "## Filter"
   ]
  },
  {
   "cell_type": "code",
   "execution_count": 53,
   "metadata": {
    "collapsed": false
   },
   "outputs": [
    {
     "data": {
      "text/plain": [
       "[4, 22, 100]"
      ]
     },
     "execution_count": 53,
     "metadata": {},
     "output_type": "execute_result"
    }
   ],
   "source": [
    "def filterfunc(var):\n",
    "    return var % 2 == 0\n",
    "\n",
    "lijst = [4, 19, 22, 100, 101]\n",
    "filter(filterfunc, lijst)"
   ]
  },
  {
   "cell_type": "code",
   "execution_count": 54,
   "metadata": {
    "collapsed": false
   },
   "outputs": [
    {
     "data": {
      "text/plain": [
       "[4, 22, 100]"
      ]
     },
     "execution_count": 54,
     "metadata": {},
     "output_type": "execute_result"
    }
   ],
   "source": [
    "filter(lambda var: var % 2 == 0, lijst)"
   ]
  },
  {
   "cell_type": "markdown",
   "metadata": {},
   "source": [
    "## Reduce"
   ]
  },
  {
   "cell_type": "code",
   "execution_count": 55,
   "metadata": {
    "collapsed": false
   },
   "outputs": [
    {
     "name": "stdout",
     "output_type": "stream",
     "text": [
      "700\n"
     ]
    }
   ],
   "source": [
    "lijst = [1, 200, 101, 44, 120, 700, 33, 33]\n",
    "\n",
    "def hoogste(var1, var2):\n",
    "    if var1 > var2:\n",
    "        return var1\n",
    "    else:\n",
    "        return var2\n",
    "\n",
    "print reduce(hoogste, lijst)"
   ]
  },
  {
   "cell_type": "code",
   "execution_count": 56,
   "metadata": {
    "collapsed": false
   },
   "outputs": [
    {
     "name": "stdout",
     "output_type": "stream",
     "text": [
      "700\n"
     ]
    }
   ],
   "source": [
    "lijst = [1, 200, 101, 44, 120, 700, 33, 33]\n",
    "\n",
    "hoogste_lambda = lambda var1, var2: var1 if (var1 > var2) else var2\n",
    "\n",
    "print reduce(hoogste_lambda, lijst)"
   ]
  },
  {
   "cell_type": "code",
   "execution_count": 57,
   "metadata": {
    "collapsed": false
   },
   "outputs": [
    {
     "name": "stdout",
     "output_type": "stream",
     "text": [
      "700\n"
     ]
    }
   ],
   "source": [
    "lijst = [1, 200, 101, 44, 120, 700, 33, 33]\n",
    "print reduce(lambda var1, var2: var1 if (var1 > var2) else var2, lijst)"
   ]
  },
  {
   "cell_type": "code",
   "execution_count": 58,
   "metadata": {
    "collapsed": false
   },
   "outputs": [
    {
     "name": "stdout",
     "output_type": "stream",
     "text": [
      "1232\n"
     ]
    }
   ],
   "source": [
    "lijst = [1, 200, 101, 44, 120, 700, 33, 33]\n",
    "\n",
    "counter = 0\n",
    "\n",
    "for i in lijst:\n",
    "    counter += i\n",
    "    \n",
    "print counter"
   ]
  },
  {
   "cell_type": "code",
   "execution_count": 59,
   "metadata": {
    "collapsed": false
   },
   "outputs": [
    {
     "name": "stdout",
     "output_type": "stream",
     "text": [
      "1232\n"
     ]
    }
   ],
   "source": [
    "lijst = [1, 200, 101, 44, 120, 700, 33, 33]\n",
    "\n",
    "def adder(var1, var2):\n",
    "    return var1+var2\n",
    "\n",
    "print reduce(adder, lijst)"
   ]
  },
  {
   "cell_type": "code",
   "execution_count": 60,
   "metadata": {
    "collapsed": false
   },
   "outputs": [
    {
     "name": "stdout",
     "output_type": "stream",
     "text": [
      "1232\n"
     ]
    }
   ],
   "source": [
    "lijst = [1, 200, 101, 44, 120, 700, 33, 33]\n",
    "\n",
    "print reduce(lambda var1, var2: var1+var2, lijst)"
   ]
  },
  {
   "cell_type": "markdown",
   "metadata": {},
   "source": [
    "## Zip"
   ]
  },
  {
   "cell_type": "code",
   "execution_count": 61,
   "metadata": {
    "collapsed": false
   },
   "outputs": [
    {
     "name": "stdout",
     "output_type": "stream",
     "text": [
      "('jan', 1)\n",
      "('piet', 6)\n",
      "('klaas', 2)\n",
      "('henk', 100)\n"
     ]
    }
   ],
   "source": [
    "lijst1 = ['jan', 'piet', 'klaas', 'henk']\n",
    "lijst2 = [1, 6, 2, 100]\n",
    "\n",
    "zipped_lijst = zip(lijst1, lijst2)\n",
    "\n",
    "for i in zipped_lijst:\n",
    "    print i"
   ]
  },
  {
   "cell_type": "markdown",
   "metadata": {},
   "source": [
    "## Unzip\n",
    "\n",
    "Unzippen kan door een * te gebruiken"
   ]
  },
  {
   "cell_type": "code",
   "execution_count": 62,
   "metadata": {
    "collapsed": false
   },
   "outputs": [
    {
     "name": "stdout",
     "output_type": "stream",
     "text": [
      "namen: ('jan', 'piet', 'klaas', 'henk')\n",
      "waardes: (1, 6, 2, 100)\n"
     ]
    }
   ],
   "source": [
    "namen, waardes = zip(*zipped_lijst)\n",
    "print \"namen: {}\".format(namen)\n",
    "print \"waardes: {}\".format(waardes)"
   ]
  },
  {
   "cell_type": "markdown",
   "metadata": {},
   "source": [
    "# Case zonder case\n",
    "\n",
    "Een case/esac constructie is makkelijk te maken met dicts; dit kan met zowel \"normale\" functies:"
   ]
  },
  {
   "cell_type": "code",
   "execution_count": 4,
   "metadata": {
    "collapsed": false
   },
   "outputs": [
    {
     "name": "stdout",
     "output_type": "stream",
     "text": [
      "Je hebt optie 1 gekozen\n"
     ]
    }
   ],
   "source": [
    "switchdict = {\n",
    "    'a': \"Je hebt optie 1 gekozen\",\n",
    "    'b': \"Je hebt optie 2 gekozen\",\n",
    "}\n",
    "\n",
    "print switchdict['a']"
   ]
  },
  {
   "cell_type": "markdown",
   "metadata": {},
   "source": [
    "Of met lambda's (of natuurlijk met functies)"
   ]
  },
  {
   "cell_type": "code",
   "execution_count": 5,
   "metadata": {
    "collapsed": false
   },
   "outputs": [
    {
     "name": "stdout",
     "output_type": "stream",
     "text": [
      "100\n"
     ]
    }
   ],
   "source": [
    "switchdict = {\n",
    "    'a': lambda: 10 * 10,\n",
    "    'b': lambda: 10 + 10,\n",
    "}\n",
    "\n",
    "print switchdict['a']()"
   ]
  },
  {
   "cell_type": "markdown",
   "metadata": {},
   "source": [
    "# Decorators!"
   ]
  },
  {
   "cell_type": "code",
   "execution_count": 25,
   "metadata": {
    "collapsed": false
   },
   "outputs": [
    {
     "name": "stdout",
     "output_type": "stream",
     "text": [
      "<p>Hallo daar Yoram!</p>\n"
     ]
    }
   ],
   "source": [
    "def get_text(naam):\n",
    "    return \"Hallo daar {}!\".format(naam)\n",
    "    \n",
    "def decorate_func(functie):\n",
    "    def func_wrapper(naam):\n",
    "        output_string = functie(naam)\n",
    "        return \"<p>{}</p>\".format(output_string)\n",
    "    return func_wrapper\n",
    "\n",
    "mijn_text = decorate_func(get_text)\n",
    "print mijn_text('Yoram')"
   ]
  },
  {
   "cell_type": "code",
   "execution_count": 24,
   "metadata": {
    "collapsed": false
   },
   "outputs": [
    {
     "name": "stdout",
     "output_type": "stream",
     "text": [
      "<p>Hallo daar Yoram!</p>\n"
     ]
    }
   ],
   "source": [
    "def decorate_func(functie):\n",
    "    def func_wrapper(naam):\n",
    "        output_string = functie(naam)\n",
    "        return \"<p>{}</p>\".format(output_string)\n",
    "    return func_wrapper\n",
    "\n",
    "@decorate_func\n",
    "def get_text(naam):\n",
    "    return \"Hallo daar {}!\".format(naam)\n",
    "\n",
    "print get_text('Yoram')"
   ]
  },
  {
   "cell_type": "code",
   "execution_count": null,
   "metadata": {
    "collapsed": true
   },
   "outputs": [],
   "source": []
  }
 ],
 "metadata": {
  "kernelspec": {
   "display_name": "Python 2",
   "language": "python",
   "name": "python2"
  },
  "language_info": {
   "codemirror_mode": {
    "name": "ipython",
    "version": 2
   },
   "file_extension": ".py",
   "mimetype": "text/x-python",
   "name": "python",
   "nbconvert_exporter": "python",
   "pygments_lexer": "ipython2",
   "version": "2.7.6"
  }
 },
 "nbformat": 4,
 "nbformat_minor": 0
}
