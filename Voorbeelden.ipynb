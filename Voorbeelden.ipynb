{
 "cells": [
  {
   "cell_type": "markdown",
   "metadata": {},
   "source": [
    "# Praktische dingen voor een admin\n",
    "\n",
    "## Logfile analyse"
   ]
  },
  {
   "cell_type": "markdown",
   "metadata": {},
   "source": [
    "De file *test.log* bevat de volgende informatie:\n",
    "```\n",
    "Sep 16 10:38:45 yoram-thinkpad kernel: [ 1948.146436] CPU0: Package temperature/speed normal\n",
    "Sep 16 10:38:49 yoram-thinkpad kernel: [ 1952.421197] mce: [Hardware Error]: Machine check events logged\n",
    "Sep 16 10:39:57 yoram-thinkpad wpa_supplicant[3370]: wlan0: CTRL-EVENT-SCAN-STARTED \n",
    "-------- etc ---------\n",
    "```"
   ]
  },
  {
   "cell_type": "code",
   "execution_count": 1,
   "metadata": {
    "collapsed": false
   },
   "outputs": [
    {
     "name": "stdout",
     "output_type": "stream",
     "text": [
      "Sep 16 10:38:45 yoram-thinkpad kernel: [ 1948.146436] CPU0: Package temperature/speed normal\n",
      "Sep 16 10:38:49 yoram-thinkpad kernel: [ 1952.421197] mce: [Hardware Error]: Machine check events logged\n",
      "Sep 16 10:39:57 yoram-thinkpad wpa_supplicant[3370]: wlan0: CTRL-EVENT-SCAN-STARTED \n"
     ]
    }
   ],
   "source": [
    "filehandle = open('test.log', 'r')\n",
    "filelines = filehandle.readlines()\n",
    "filehandle.close()\n",
    "for line in filelines:\n",
    "    print line, # de laatste ',' betekent dat er geen newline achter elke line geplaatst wordt"
   ]
  },
  {
   "cell_type": "markdown",
   "metadata": {},
   "source": [
    "Ervanuit gaande dat de log een vaste structuur heeft, kunnen we deze makkelijk splitsen/parsen"
   ]
  },
  {
   "cell_type": "code",
   "execution_count": 2,
   "metadata": {
    "collapsed": false
   },
   "outputs": [
    {
     "name": "stdout",
     "output_type": "stream",
     "text": [
      "date: Sep 16 10:38:45\n",
      "hostname: yoram-thinkpad\n",
      "message: kernel: [ 1948.146436] CPU0: Package temperature/speed normal\n",
      "---------------\n",
      "date: Sep 16 10:38:49\n",
      "hostname: yoram-thinkpad\n",
      "message: kernel: [ 1952.421197] mce: [Hardware Error]: Machine check events logged\n",
      "---------------\n",
      "date: Sep 16 10:39:57\n",
      "hostname: yoram-thinkpad\n",
      "message: wpa_supplicant[3370]: wlan0: CTRL-EVENT-SCAN-STARTED\n",
      "---------------\n"
     ]
    }
   ],
   "source": [
    "for line in filelines:\n",
    "    # Eerst maken we van de regel een lijst\n",
    "    line_list = line.split()\n",
    "    \n",
    "    # Item 0 t/m 3 is de datum.\n",
    "    date_string = ' '.join(line_list[:3])\n",
    "    \n",
    "    hostname = line_list[3]\n",
    "    \n",
    "    # Vanaf het 5e item begint de message\n",
    "    message = ' '.join(line_list[4:])\n",
    "    print \"date: {}\\nhostname: {}\\nmessage: {}\\n---------------\".format(date_string, hostname, message)"
   ]
  },
  {
   "cell_type": "code",
   "execution_count": 3,
   "metadata": {
    "collapsed": false
   },
   "outputs": [
    {
     "name": "stdout",
     "output_type": "stream",
     "text": [
      "2015-09-16 10:38:45\n"
     ]
    }
   ],
   "source": [
    "from datetime import datetime\n",
    "date_string = 'Sep 16 10:38:45'\n",
    "date_object = datetime.strptime(date_string, '%b %d %H:%M:%S')\n",
    "# We hebben alleen het jaar niet gespecificeerd. Dit staat standaar op 1900\n",
    "date_object = date_object.replace(year=2015)\n",
    "print date_object"
   ]
  },
  {
   "cell_type": "code",
   "execution_count": 4,
   "metadata": {
    "collapsed": false
   },
   "outputs": [
    {
     "name": "stdout",
     "output_type": "stream",
     "text": [
      "aantal seconden: 14185\n",
      "uren: 3\n",
      "minuten: 56\n",
      "seconden: 25\n"
     ]
    }
   ],
   "source": [
    "# We kunnen nu ook makkelijk delta's bekijken\n",
    "verschil = datetime.now() - date_object\n",
    "print \"aantal seconden: {}\".format(verschil.seconds)\n",
    "\n",
    "# Of, als we fancy willen doen\n",
    "minuten, seconden = divmod(verschil.seconds, 60)\n",
    "uren, minuten = divmod(minuten, 60)\n",
    "print \"uren: {}\\nminuten: {}\\nseconden: {}\".format(uren, minuten, seconden)"
   ]
  },
  {
   "cell_type": "code",
   "execution_count": 13,
   "metadata": {
    "collapsed": false
   },
   "outputs": [
    {
     "name": "stdout",
     "output_type": "stream",
     "text": [
      "date: Sep 16 10:38:45 (14203 seconden geleden)\n",
      "hostname: yoram-thinkpad\n",
      "message: kernel: [ 1948.146436] CPU0: Package temperature/speed normal\n",
      "---------------\n",
      "date: Sep 16 10:38:49 (14199 seconden geleden)\n",
      "hostname: yoram-thinkpad\n",
      "message: kernel: [ 1952.421197] mce: [Hardware Error]: Machine check events logged\n",
      "---------------\n",
      "date: Sep 16 10:39:57 (14131 seconden geleden)\n",
      "hostname: yoram-thinkpad\n",
      "message: wpa_supplicant[3370]: wlan0: CTRL-EVENT-SCAN-STARTED\n",
      "---------------\n"
     ]
    }
   ],
   "source": [
    "# Dit kunnen we nu ook in de loop opnemen:\n",
    "from datetime import datetime\n",
    "for line in filelines:\n",
    "    # Eerst maken we van de regel een lijst\n",
    "    line_list = line.split()\n",
    "    \n",
    "    # Item 0 t/m 3 is de datum.\n",
    "    # Ter herinnering, de regel ziet er als volgt uit:\n",
    "    # Sep 16 10:38:45 yoram-thinkpad kernel: [ 1948.146436] CPU0: Package temperature/speed normal\n",
    "    date_string = ' '.join(line_list[:3])\n",
    "    date_object = datetime.strptime(date_string, '%b %d %H:%M:%S')\n",
    "    time_delta = datetime.now() - date_object\n",
    "    \n",
    "    hostname = line_list[3]\n",
    "    \n",
    "    # Vanaf het 5e item begint de message\n",
    "    message = ' '.join(line_list[4:])\n",
    "    \n",
    "    print \"date: {} ({} seconden geleden)\\nhostname: {}\\nmessage: {}\\n---------------\".format(\n",
    "        date_string, time_delta.seconds, hostname, message,\n",
    "    )"
   ]
  },
  {
   "cell_type": "markdown",
   "metadata": {
    "collapsed": true
   },
   "source": [
    "## Configuratie files met ConfigParser"
   ]
  },
  {
   "cell_type": "markdown",
   "metadata": {},
   "source": [
    "De file test.ini bevat de volgende info:\n",
    "\n",
    "```\n",
    "[sectie1]\n",
    "key1 = waarde1\n",
    "key2 = waarde2\n",
    "key3 = waarde3\n",
    "\n",
    "[sectie2]\n",
    "key4 = waarde4\n",
    "key5 = waarde5\n",
    "key6 = waarde6\n",
    "```"
   ]
  },
  {
   "cell_type": "code",
   "execution_count": 6,
   "metadata": {
    "collapsed": false
   },
   "outputs": [
    {
     "data": {
      "text/plain": [
       "['test.ini']"
      ]
     },
     "execution_count": 6,
     "metadata": {},
     "output_type": "execute_result"
    }
   ],
   "source": [
    "from ConfigParser import ConfigParser\n",
    "\n",
    "config = ConfigParser()\n",
    "config.read('test.ini')"
   ]
  },
  {
   "cell_type": "code",
   "execution_count": 7,
   "metadata": {
    "collapsed": false
   },
   "outputs": [
    {
     "name": "stdout",
     "output_type": "stream",
     "text": [
      "Secties: ['sectie1', 'sectie2']\n",
      "---------\n",
      "Sectie: sectie1\n",
      "key1: waarde1\n",
      "key2: waarde2\n",
      "key3: waarde3\n",
      "--------\n",
      "Sectie: sectie2\n",
      "key4: waarde4\n",
      "key5: waarde5\n",
      "key6: waarde6\n",
      "--------\n"
     ]
    }
   ],
   "source": [
    "secties = config.sections()\n",
    "print \"Secties: {}\".format(secties)\n",
    "print \"---------\"\n",
    "\n",
    "for sectie in config.sections():\n",
    "    print \"Sectie: {}\".format(sectie)\n",
    "\n",
    "    for item in config.options(sectie):\n",
    "        print \"{}: {}\".format(item, config.get(sectie, item))\n",
    "    \n",
    "    print \"--------\""
   ]
  },
  {
   "cell_type": "markdown",
   "metadata": {},
   "source": [
    "## Data opslaan in json"
   ]
  },
  {
   "cell_type": "markdown",
   "metadata": {},
   "source": [
    "### Vooraf\n",
    "\n",
    "We hebben zonet het volgende commando gerunned:\n",
    "```\n",
    "find /tmp -exec md5sum {} \\;\n",
    "```\n",
    "\n",
    "en hier is het volgende uitgekomen en weggeschreven naar sums.txt\n",
    "\n",
    "```\n",
    "48a6e19675ef52a879470cce58aac6a8  ./images/python_logo.png\n",
    "d42c6e0efdf929036634176bbeae27b6  ./images/cern.jpeg\n",
    "9c6bc947ba5eddef60e544fe9752590e  ./images/nasa.jpeg\n",
    "1bbdcde81304d2d5575ae72848e31a38  ./images/yahoo.jpeg\n",
    "bfe3688ea526e2700b8b38e1cdf59435  ./presentatie.ipynb\n",
    "c3b3eb40d3f03d22fa27ec26fc5c0a8e  ./test.log\n",
    "5f6f0b075568f2df58e2f1b9c8238630  ./Voorbeelden.ipynb\n",
    "d05a415a94ad558f0489a5ef8bdf29a6  ./test.ini\n",
    "```"
   ]
  },
  {
   "cell_type": "markdown",
   "metadata": {},
   "source": [
    "## Inlezen in dictionary"
   ]
  },
  {
   "cell_type": "code",
   "execution_count": 8,
   "metadata": {
    "collapsed": false
   },
   "outputs": [
    {
     "name": "stdout",
     "output_type": "stream",
     "text": [
      "{'1bbdcde81304d2d5575ae72848e31a38': './images/yahoo.jpeg',\n",
      " '48a6e19675ef52a879470cce58aac6a8': './images/python_logo.png',\n",
      " '5f6f0b075568f2df58e2f1b9c8238630': './Voorbeelden.ipynb',\n",
      " '9c6bc947ba5eddef60e544fe9752590e': './images/nasa.jpeg',\n",
      " 'bfe3688ea526e2700b8b38e1cdf59435': './presentatie.ipynb',\n",
      " 'c3b3eb40d3f03d22fa27ec26fc5c0a8e': './test.log',\n",
      " 'd05a415a94ad558f0489a5ef8bdf29a6': './test.ini',\n",
      " 'd42c6e0efdf929036634176bbeae27b6': './images/cern.jpeg'}\n"
     ]
    }
   ],
   "source": [
    "import pprint\n",
    "\n",
    "checksum_dict = {}\n",
    "\n",
    "with open('sums.txt', 'r') as filehandle:\n",
    "    for line in filehandle.readlines():\n",
    "        checksum, filename = line.split()\n",
    "        checksum_dict[checksum] = filename\n",
    "        \n",
    "pprint.pprint(checksum_dict)"
   ]
  },
  {
   "cell_type": "markdown",
   "metadata": {},
   "source": [
    "### JSON"
   ]
  },
  {
   "cell_type": "code",
   "execution_count": 9,
   "metadata": {
    "collapsed": false
   },
   "outputs": [
    {
     "name": "stdout",
     "output_type": "stream",
     "text": [
      "{\"c3b3eb40d3f03d22fa27ec26fc5c0a8e\": \"./test.log\", \"1bbdcde81304d2d5575ae72848e31a38\": \"./images/yahoo.jpeg\", \"d42c6e0efdf929036634176bbeae27b6\": \"./images/cern.jpeg\", \"d05a415a94ad558f0489a5ef8bdf29a6\": \"./test.ini\", \"9c6bc947ba5eddef60e544fe9752590e\": \"./images/nasa.jpeg\", \"5f6f0b075568f2df58e2f1b9c8238630\": \"./Voorbeelden.ipynb\", \"48a6e19675ef52a879470cce58aac6a8\": \"./images/python_logo.png\", \"bfe3688ea526e2700b8b38e1cdf59435\": \"./presentatie.ipynb\"}\n"
     ]
    }
   ],
   "source": [
    "import json\n",
    "\n",
    "json_string = json.dumps(checksum_dict)\n",
    "\n",
    "print json_string"
   ]
  },
  {
   "cell_type": "code",
   "execution_count": 10,
   "metadata": {
    "collapsed": false
   },
   "outputs": [
    {
     "name": "stdout",
     "output_type": "stream",
     "text": [
      "{u'1bbdcde81304d2d5575ae72848e31a38': u'./images/yahoo.jpeg',\n",
      " u'48a6e19675ef52a879470cce58aac6a8': u'./images/python_logo.png',\n",
      " u'5f6f0b075568f2df58e2f1b9c8238630': u'./Voorbeelden.ipynb',\n",
      " u'9c6bc947ba5eddef60e544fe9752590e': u'./images/nasa.jpeg',\n",
      " u'bfe3688ea526e2700b8b38e1cdf59435': u'./presentatie.ipynb',\n",
      " u'c3b3eb40d3f03d22fa27ec26fc5c0a8e': u'./test.log',\n",
      " u'd05a415a94ad558f0489a5ef8bdf29a6': u'./test.ini',\n",
      " u'd42c6e0efdf929036634176bbeae27b6': u'./images/cern.jpeg'}\n"
     ]
    }
   ],
   "source": [
    "nieuwe_dict = json.loads(json_string)\n",
    "pprint.pprint(nieuwe_dict)"
   ]
  },
  {
   "cell_type": "markdown",
   "metadata": {},
   "source": [
    "## Unieke bezoekers uit logfile"
   ]
  },
  {
   "cell_type": "markdown",
   "metadata": {},
   "source": [
    "server.log bevat de volgende regels:\n",
    "\n",
    "```\n",
    "92.63.81.114 - - [27/Mar/2015:14:08:52 +0100] \"GET / HTTP/1.1\" 200 16833 \"http://phaxa.nl/\" \"Mozilla/4.0 (compatible; MSIE 6.0; Windows NT 5.1; SV1)\" \"-\"\n",
    "66.249.67.123 - - [27/Mar/2015:16:10:59 +0100] \"GET /feed/ HTTP/1.1\" 200 1563 \"-\" \"Mozilla/5.0 (compatible; Googlebot/2.1; +http://www.google.com/bot.html)\" \"-\"\n",
    "--- etc ---\n",
    "```"
   ]
  },
  {
   "cell_type": "code",
   "execution_count": 11,
   "metadata": {
    "collapsed": false
   },
   "outputs": [
    {
     "name": "stdout",
     "output_type": "stream",
     "text": [
      "['94.76.241.6', '216.218.206.66', '92.63.81.114', '217.69.143.63', '185.27.174.170', '66.249.67.115', '66.249.67.131', '66.249.67.123']\n"
     ]
    }
   ],
   "source": [
    "bezoekers = []\n",
    "\n",
    "with open('server.log') as filehandle:\n",
    "    for line in filehandle.readlines():\n",
    "        bezoeker = line.split()[0]\n",
    "        bezoekers.append(bezoeker)\n",
    "        \n",
    "for bezoeker in bezoekers:\n",
    "    while bezoekers.count(bezoeker) > 1:\n",
    "        bezoekers.remove(bezoeker)\n",
    "        \n",
    "# Dit is ook als volgt te doen:\n",
    "# bezoekers = list(set(bezoekers))\n",
    "        \n",
    "print bezoekers"
   ]
  },
  {
   "cell_type": "markdown",
   "metadata": {},
   "source": [
    "## Hoe vaak komt een bezoeker voor?"
   ]
  },
  {
   "cell_type": "code",
   "execution_count": 12,
   "metadata": {
    "collapsed": false
   },
   "outputs": [
    {
     "name": "stdout",
     "output_type": "stream",
     "text": [
      "185.27.174.170 heeft 3 entries.\n",
      "94.76.241.6 heeft 1 entries.\n",
      "66.249.67.123 heeft 3 entries.\n",
      "66.249.67.131 heeft 1 entries.\n",
      "217.69.143.63 heeft 1 entries.\n",
      "216.218.206.66 heeft 1 entries.\n",
      "92.63.81.114 heeft 2 entries.\n",
      "66.249.67.115 heeft 3 entries.\n"
     ]
    }
   ],
   "source": [
    "bezoekers = {}\n",
    "\n",
    "with open('server.log', 'r') as filehandle:\n",
    "    for line in filehandle.readlines():\n",
    "        bezoeker = line.split()[0]\n",
    "        try:\n",
    "            bezoekers[bezoeker] += 1\n",
    "        except KeyError:\n",
    "            bezoekers[bezoeker] = 1\n",
    "            \n",
    "for bezoeker in bezoekers.keys():\n",
    "    print \"{} heeft {} entries.\".format(bezoeker, bezoekers[bezoeker])"
   ]
  },
  {
   "cell_type": "code",
   "execution_count": null,
   "metadata": {
    "collapsed": true
   },
   "outputs": [],
   "source": []
  }
 ],
 "metadata": {
  "kernelspec": {
   "display_name": "Python 2",
   "language": "python",
   "name": "python2"
  },
  "language_info": {
   "codemirror_mode": {
    "name": "ipython",
    "version": 2
   },
   "file_extension": ".py",
   "mimetype": "text/x-python",
   "name": "python",
   "nbconvert_exporter": "python",
   "pygments_lexer": "ipython2",
   "version": "2.7.6"
  }
 },
 "nbformat": 4,
 "nbformat_minor": 0
}
